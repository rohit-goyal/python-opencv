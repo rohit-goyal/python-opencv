import cv2
import numpy as nd

video_path = "R:\\green.mp4"
img_path = "R:\\hog.jpg"
video = cv2.VideoCapture(video_path)
image = cv2.imread(img_path)

while True:
    ret, frame = video.read()
    frame=cv2.resize(frame,(640,480))
    image=cv2.resize(image,(640,480))
    hsv=cv2.cvtColor(frame, cv2.COLOR_BGR2HSV)
    
    l_g=nd.array([32,94,132])
    u_g=nd.array([179,255,255])
    
    mask = cv2.inRange(hsv,l_g,u_g)
    res=cv2.bitwise_and(frame, frame, mask=mask)
    fr=frame-res
    gr_sc=nd.where(fr==0, image, fr)
    #cv2.imshow("Frame", frame)
    #cv2.imshow("Mask", mask)
    #cv2.imshow("Res", res)
    #cv2.imshow("Fr", fr)
    cv2.imshow("result",gr_sc)
    #print(fr)
    #K=cv2.waitKey(1)
    if cv2.waitKey(1)==ord('q'):   #You use can use any letter , q is preferred
        break
        
video.release()
cv2.destroyAllWindows()
